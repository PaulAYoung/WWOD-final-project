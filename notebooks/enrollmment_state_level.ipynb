{
 "metadata": {
  "name": "",
  "signature": "sha256:96d366bfeeaeb39cc9d91d831c11b033b92d48d20bda0ae7dde706f50adebbd2"
 },
 "nbformat": 3,
 "nbformat_minor": 0,
 "worksheets": [
  {
   "cells": [
    {
     "cell_type": "code",
     "collapsed": false,
     "input": [
      "import os\n",
      "import pandas as pd\n",
      "%matplotlib inline"
     ],
     "language": "python",
     "metadata": {},
     "outputs": [],
     "prompt_number": 1
    },
    {
     "cell_type": "code",
     "collapsed": false,
     "input": [
      "from IPython.html.widgets import interact, interactive, fixed\n",
      "from IPython.html import widgets\n",
      "from IPython.display import clear_output, display, HTML"
     ],
     "language": "python",
     "metadata": {},
     "outputs": [],
     "prompt_number": 2
    },
    {
     "cell_type": "code",
     "collapsed": false,
     "input": [
      "#get data dir\n",
      "\n",
      "data_path = os.path.join(os.path.pardir, \"data\")\n",
      "compiled_data = os.path.join(os.path.pardir, \"compileddata\")\n",
      "assert os.path.exists(data_path)\n",
      "assert os.path.exists(compiled_data)"
     ],
     "language": "python",
     "metadata": {},
     "outputs": [],
     "prompt_number": 3
    },
    {
     "cell_type": "code",
     "collapsed": false,
     "input": [
      "df = pd.read_csv(os.path.join(compiled_data, \"enrollment.csv\"))"
     ],
     "language": "python",
     "metadata": {},
     "outputs": [
      {
       "output_type": "stream",
       "stream": "stderr",
       "text": [
        "/home/paul/anaconda/envs/myenv/lib/python2.7/site-packages/pandas/io/parsers.py:1070: DtypeWarning: Columns (4,5,22) have mixed types. Specify dtype option on import or set low_memory=False.\n",
        "  data = self._reader.read(nrows)\n"
       ]
      }
     ],
     "prompt_number": 4
    },
    {
     "cell_type": "code",
     "collapsed": false,
     "input": [
      "schools = pd.read_csv(os.path.join(data_path, \"pubschls.txt\"), sep=\"\\t\")\n",
      "schools.columns"
     ],
     "language": "python",
     "metadata": {},
     "outputs": [
      {
       "metadata": {},
       "output_type": "pyout",
       "prompt_number": 5,
       "text": [
        "Index([u'CDSCode', u'NCESDist', u'NCESSchool', u'StatusType', u'County', u'District', u'School', u'Street', u'StreetAbr', u'City', u'Zip', u'State', u'MailStreet', u'MailStrAbr', u'MailCity', u'MailZip', u'MailState', u'Phone', u'Ext', u'Website', u'OpenDate', u'ClosedDate', u'Charter', u'CharterNum', u'FundingType', u'DOC', u'DOCType', u'SOC', u'SOCType', u'EdOpsCode', u'EdOpsName', u'EILCode', u'EILName', u'GSoffered', u'GSserved', u'Latitude', u'Longitude', u'AdmFName1', u'AdmLName1', u'AdmEmail1', u'AdmFName2', u'AdmLName2', u'AdmEmail2', u'AdmFName3', u'AdmLName3', u'AdmEmail3', u'LastUpdate'], dtype='object')"
       ]
      }
     ],
     "prompt_number": 5
    },
    {
     "cell_type": "code",
     "collapsed": false,
     "input": [
      "#set columns from schools to merege\n",
      "merge_columns = [\"CDSCode\", \"Charter\", \"County\", \"District\", \"School\", \"City\", \"State\"]\n",
      "\n",
      "enrollment = df.merge(schools[merge_columns], how=\"left\", left_on=\"cds_code\", right_on=\"CDSCode\")\n",
      "enrollment.head()"
     ],
     "language": "python",
     "metadata": {},
     "outputs": [
      {
       "html": [
        "<div style=\"max-height:1000px;max-width:1500px;overflow:auto;\">\n",
        "<table border=\"1\" class=\"dataframe\">\n",
        "  <thead>\n",
        "    <tr style=\"text-align: right;\">\n",
        "      <th></th>\n",
        "      <th>Unnamed: 0</th>\n",
        "      <th>FILENAME</th>\n",
        "      <th>adult</th>\n",
        "      <th>cds_code</th>\n",
        "      <th>county</th>\n",
        "      <th>district</th>\n",
        "      <th>enr_total</th>\n",
        "      <th>ethnic</th>\n",
        "      <th>gender</th>\n",
        "      <th>gr_1</th>\n",
        "      <th>gr_10</th>\n",
        "      <th>gr_11</th>\n",
        "      <th>gr_12</th>\n",
        "      <th>gr_2</th>\n",
        "      <th>gr_3</th>\n",
        "      <th>gr_4</th>\n",
        "      <th>gr_5</th>\n",
        "      <th>gr_6</th>\n",
        "      <th>gr_7</th>\n",
        "      <th>gr_8</th>\n",
        "      <th></th>\n",
        "    </tr>\n",
        "  </thead>\n",
        "  <tbody>\n",
        "    <tr>\n",
        "      <th>0</th>\n",
        "      <td> 0</td>\n",
        "      <td> data/enr93.txt</td>\n",
        "      <td> 0</td>\n",
        "      <td> 1100170130401</td>\n",
        "      <td> NaN</td>\n",
        "      <td> NaN</td>\n",
        "      <td>  1</td>\n",
        "      <td> 1</td>\n",
        "      <td> M</td>\n",
        "      <td> 0</td>\n",
        "      <td> 0</td>\n",
        "      <td> 0</td>\n",
        "      <td> 1</td>\n",
        "      <td> 0</td>\n",
        "      <td> 0</td>\n",
        "      <td> 0</td>\n",
        "      <td> 0</td>\n",
        "      <td> 0</td>\n",
        "      <td> 0</td>\n",
        "      <td> 0</td>\n",
        "      <td>...</td>\n",
        "    </tr>\n",
        "    <tr>\n",
        "      <th>1</th>\n",
        "      <td> 1</td>\n",
        "      <td> data/enr93.txt</td>\n",
        "      <td> 0</td>\n",
        "      <td> 1100170130401</td>\n",
        "      <td> NaN</td>\n",
        "      <td> NaN</td>\n",
        "      <td>  5</td>\n",
        "      <td> 2</td>\n",
        "      <td> M</td>\n",
        "      <td> 0</td>\n",
        "      <td> 3</td>\n",
        "      <td> 2</td>\n",
        "      <td> 0</td>\n",
        "      <td> 0</td>\n",
        "      <td> 0</td>\n",
        "      <td> 0</td>\n",
        "      <td> 0</td>\n",
        "      <td> 0</td>\n",
        "      <td> 0</td>\n",
        "      <td> 0</td>\n",
        "      <td>...</td>\n",
        "    </tr>\n",
        "    <tr>\n",
        "      <th>2</th>\n",
        "      <td> 2</td>\n",
        "      <td> data/enr93.txt</td>\n",
        "      <td> 0</td>\n",
        "      <td> 1100170130401</td>\n",
        "      <td> NaN</td>\n",
        "      <td> NaN</td>\n",
        "      <td>  1</td>\n",
        "      <td> 3</td>\n",
        "      <td> F</td>\n",
        "      <td> 0</td>\n",
        "      <td> 1</td>\n",
        "      <td> 0</td>\n",
        "      <td> 0</td>\n",
        "      <td> 0</td>\n",
        "      <td> 0</td>\n",
        "      <td> 0</td>\n",
        "      <td> 0</td>\n",
        "      <td> 0</td>\n",
        "      <td> 0</td>\n",
        "      <td> 0</td>\n",
        "      <td>...</td>\n",
        "    </tr>\n",
        "    <tr>\n",
        "      <th>3</th>\n",
        "      <td> 3</td>\n",
        "      <td> data/enr93.txt</td>\n",
        "      <td> 0</td>\n",
        "      <td> 1100170130401</td>\n",
        "      <td> NaN</td>\n",
        "      <td> NaN</td>\n",
        "      <td> 11</td>\n",
        "      <td> 3</td>\n",
        "      <td> M</td>\n",
        "      <td> 0</td>\n",
        "      <td> 3</td>\n",
        "      <td> 4</td>\n",
        "      <td> 0</td>\n",
        "      <td> 0</td>\n",
        "      <td> 0</td>\n",
        "      <td> 0</td>\n",
        "      <td> 0</td>\n",
        "      <td> 0</td>\n",
        "      <td> 0</td>\n",
        "      <td> 2</td>\n",
        "      <td>...</td>\n",
        "    </tr>\n",
        "    <tr>\n",
        "      <th>4</th>\n",
        "      <td> 4</td>\n",
        "      <td> data/enr93.txt</td>\n",
        "      <td> 0</td>\n",
        "      <td> 1100170130401</td>\n",
        "      <td> NaN</td>\n",
        "      <td> NaN</td>\n",
        "      <td>  6</td>\n",
        "      <td> 4</td>\n",
        "      <td> M</td>\n",
        "      <td> 0</td>\n",
        "      <td> 0</td>\n",
        "      <td> 2</td>\n",
        "      <td> 2</td>\n",
        "      <td> 0</td>\n",
        "      <td> 0</td>\n",
        "      <td> 0</td>\n",
        "      <td> 0</td>\n",
        "      <td> 0</td>\n",
        "      <td> 0</td>\n",
        "      <td> 0</td>\n",
        "      <td>...</td>\n",
        "    </tr>\n",
        "  </tbody>\n",
        "</table>\n",
        "<p>5 rows \u00d7 32 columns</p>\n",
        "</div>"
       ],
       "metadata": {},
       "output_type": "pyout",
       "prompt_number": 6,
       "text": [
        "   Unnamed: 0        FILENAME  adult       cds_code county district  \\\n",
        "0           0  data/enr93.txt      0  1100170130401    NaN      NaN   \n",
        "1           1  data/enr93.txt      0  1100170130401    NaN      NaN   \n",
        "2           2  data/enr93.txt      0  1100170130401    NaN      NaN   \n",
        "3           3  data/enr93.txt      0  1100170130401    NaN      NaN   \n",
        "4           4  data/enr93.txt      0  1100170130401    NaN      NaN   \n",
        "\n",
        "   enr_total  ethnic gender  gr_1  gr_10  gr_11  gr_12  gr_2  gr_3  gr_4  \\\n",
        "0          1       1      M     0      0      0      1     0     0     0   \n",
        "1          5       2      M     0      3      2      0     0     0     0   \n",
        "2          1       3      F     0      1      0      0     0     0     0   \n",
        "3         11       3      M     0      3      4      0     0     0     0   \n",
        "4          6       4      M     0      0      2      2     0     0     0   \n",
        "\n",
        "   gr_5  gr_6  gr_7  gr_8      \n",
        "0     0     0     0     0 ...  \n",
        "1     0     0     0     0 ...  \n",
        "2     0     0     0     0 ...  \n",
        "3     0     0     0     2 ...  \n",
        "4     0     0     0     0 ...  \n",
        "\n",
        "[5 rows x 32 columns]"
       ]
      }
     ],
     "prompt_number": 6
    },
    {
     "cell_type": "code",
     "collapsed": false,
     "input": [
      "del df\n",
      "del schools"
     ],
     "language": "python",
     "metadata": {},
     "outputs": [],
     "prompt_number": 7
    },
    {
     "cell_type": "code",
     "collapsed": false,
     "input": [
      "ethnicity_map = {\n",
      "    0: \"Other\",\n",
      "    1: \"American Indian or Alaska Native, Not Hispanic\",\n",
      "    2: \"Asian, Not Hispanic\",\n",
      "    3: \"Pacific Islander, Not Hispanic\",\n",
      "    4: \"Filipino, Not Hispanic\",\n",
      "    5: \"Hispanic or Latino\",\n",
      "    6: \"African American, not Hispanic\",\n",
      "    7: \"White, not Hispanic\",\n",
      "    8: \"Other\",\n",
      "    9: \"Other\"\n",
      "}\n",
      "enrollment[\"ethnicity\"] = enrollment.ethnic.apply(lambda e: ethnicity_map[e])\n",
      "enrollment[[\"ethnic\", \"ethnicity\"]].head()"
     ],
     "language": "python",
     "metadata": {},
     "outputs": [
      {
       "html": [
        "<div style=\"max-height:1000px;max-width:1500px;overflow:auto;\">\n",
        "<table border=\"1\" class=\"dataframe\">\n",
        "  <thead>\n",
        "    <tr style=\"text-align: right;\">\n",
        "      <th></th>\n",
        "      <th>ethnic</th>\n",
        "      <th>ethnicity</th>\n",
        "    </tr>\n",
        "  </thead>\n",
        "  <tbody>\n",
        "    <tr>\n",
        "      <th>0</th>\n",
        "      <td> 1</td>\n",
        "      <td> American Indian or Alaska Native, Not Hispanic</td>\n",
        "    </tr>\n",
        "    <tr>\n",
        "      <th>1</th>\n",
        "      <td> 2</td>\n",
        "      <td>                            Asian, Not Hispanic</td>\n",
        "    </tr>\n",
        "    <tr>\n",
        "      <th>2</th>\n",
        "      <td> 3</td>\n",
        "      <td>                 Pacific Islander, Not Hispanic</td>\n",
        "    </tr>\n",
        "    <tr>\n",
        "      <th>3</th>\n",
        "      <td> 3</td>\n",
        "      <td>                 Pacific Islander, Not Hispanic</td>\n",
        "    </tr>\n",
        "    <tr>\n",
        "      <th>4</th>\n",
        "      <td> 4</td>\n",
        "      <td>                         Filipino, Not Hispanic</td>\n",
        "    </tr>\n",
        "  </tbody>\n",
        "</table>\n",
        "<p>5 rows \u00d7 2 columns</p>\n",
        "</div>"
       ],
       "metadata": {},
       "output_type": "pyout",
       "prompt_number": 8,
       "text": [
        "   ethnic                                       ethnicity\n",
        "0       1  American Indian or Alaska Native, Not Hispanic\n",
        "1       2                             Asian, Not Hispanic\n",
        "2       3                  Pacific Islander, Not Hispanic\n",
        "3       3                  Pacific Islander, Not Hispanic\n",
        "4       4                          Filipino, Not Hispanic\n",
        "\n",
        "[5 rows x 2 columns]"
       ]
      }
     ],
     "prompt_number": 8
    },
    {
     "cell_type": "code",
     "collapsed": false,
     "input": [
      "def get_year(filename):\n",
      "    yr = int(filename[8:10])\n",
      "    if yr < 80:\n",
      "        cent = 2000\n",
      "    else:\n",
      "        cent = 1900\n",
      "    return cent + yr\n",
      "\n",
      "enrollment[\"year\"] = enrollment.FILENAME.apply(get_year)"
     ],
     "language": "python",
     "metadata": {},
     "outputs": [],
     "prompt_number": 9
    },
    {
     "cell_type": "code",
     "collapsed": false,
     "input": [
      "enr = enrollment.pivot_table(values=\"enr_total\", rows=[\"year\"], cols=[\"ethnicity\", \"Charter\"], aggfunc=sum)"
     ],
     "language": "python",
     "metadata": {},
     "outputs": [],
     "prompt_number": 10
    },
    {
     "cell_type": "code",
     "collapsed": false,
     "input": [
      "for i in ethnicity_map.values():\n",
      "    enr[i, \"P\"] = enr[i].apply(lambda r: r.Y/float(r.Y + r.N), axis=1)\n",
      "enr.sort_index(axis=1, inplace=True)"
     ],
     "language": "python",
     "metadata": {},
     "outputs": [],
     "prompt_number": 12
    },
    {
     "cell_type": "code",
     "collapsed": false,
     "input": [
      "enr.columns = enr.columns.swaplevel(0,1)"
     ],
     "language": "python",
     "metadata": {},
     "outputs": [],
     "prompt_number": 13
    },
    {
     "cell_type": "code",
     "collapsed": false,
     "input": [
      "enr[\"P\"].plot().legend(bbox_to_anchor=(2, 1))"
     ],
     "language": "python",
     "metadata": {},
     "outputs": [
      {
       "metadata": {},
       "output_type": "pyout",
       "prompt_number": 18,
       "text": [
        "<matplotlib.legend.Legend at 0x1548b690>"
       ]
      },
      {
       "metadata": {},
       "output_type": "display_data",
       "png": "[encoded data removed]",
       "text": [
        "<matplotlib.figure.Figure at 0x15476750>"
       ]
      }
     ],
     "prompt_number": 18
    }
   ],
   "metadata": {}
  }
 ]
}