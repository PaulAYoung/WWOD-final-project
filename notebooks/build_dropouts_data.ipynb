{
 "metadata": {
  "name": "",
  "signature": "sha256:e29bd52a96180076ad62347548501f518a374b72419826893b0e1d1cff0786f5"
 },
 "nbformat": 3,
 "nbformat_minor": 0,
 "worksheets": [
  {
   "cells": [
    {
     "cell_type": "code",
     "collapsed": false,
     "input": [
      "import os\n",
      "import pandas as pd"
     ],
     "language": "python",
     "metadata": {},
     "outputs": [],
     "prompt_number": 1
    },
    {
     "cell_type": "code",
     "collapsed": false,
     "input": [
      "from IPython.html.widgets import interact, interactive, fixed\n",
      "from IPython.html import widgets\n",
      "from IPython.display import clear_output, display, HTML"
     ],
     "language": "python",
     "metadata": {},
     "outputs": [],
     "prompt_number": 2
    },
    {
     "cell_type": "code",
     "collapsed": false,
     "input": [
      "#get data dir\n",
      "\n",
      "data_path = os.path.join(os.path.pardir, \"data\")\n",
      "compiled_data = os.path.join(os.path.pardir, \"compileddata\")\n",
      "final_data = os.path.join(os.path.pardir, \"finaldata\")\n",
      "assert os.path.exists(data_path)\n",
      "assert os.path.exists(compiled_data)\n",
      "assert os.path.exists(final_data)"
     ],
     "language": "python",
     "metadata": {},
     "outputs": [],
     "prompt_number": 3
    },
    {
     "cell_type": "code",
     "collapsed": false,
     "input": [
      "df = pd.read_csv(os.path.join(compiled_data, \"dropouts.csv\"))"
     ],
     "language": "python",
     "metadata": {},
     "outputs": [],
     "prompt_number": 4
    },
    {
     "cell_type": "code",
     "collapsed": false,
     "input": [
      "schools = pd.read_csv(os.path.join(data_path, \"pubschls.txt\"), sep=\"\\t\")"
     ],
     "language": "python",
     "metadata": {},
     "outputs": [],
     "prompt_number": 5
    },
    {
     "cell_type": "code",
     "collapsed": false,
     "input": [
      "schools.EILName.unique()"
     ],
     "language": "python",
     "metadata": {},
     "outputs": [
      {
       "metadata": {},
       "output_type": "pyout",
       "prompt_number": 6,
       "text": [
        "array([nan, 'Ungraded', 'Preschool', 'Adult', 'High School',\n",
        "       'Intermediate/Middle/Junior High', 'Elementary',\n",
        "       'Elementary-High Combination'], dtype=object)"
       ]
      }
     ],
     "prompt_number": 6
    },
    {
     "cell_type": "code",
     "collapsed": false,
     "input": [
      "#set columns from schools to merege\n",
      "merge_columns = [\"CDSCode\", \"Charter\", \"County\", \"District\", \"School\", \"City\", \"State\"]\n",
      "\n",
      "dropouts = df.merge(schools[merge_columns], how=\"left\", left_on=\"cds_code\", right_on=\"CDSCode\")"
     ],
     "language": "python",
     "metadata": {},
     "outputs": [],
     "prompt_number": 7
    },
    {
     "cell_type": "code",
     "collapsed": false,
     "input": [
      "#free up some memory\n",
      "\n",
      "del df\n",
      "del schools"
     ],
     "language": "python",
     "metadata": {},
     "outputs": [],
     "prompt_number": 8
    },
    {
     "cell_type": "code",
     "collapsed": false,
     "input": [
      "ethnicity_map = {\n",
      "    0: \"Other\",\n",
      "    1: \"American Indian or Alaska Native, Not Hispanic\",\n",
      "    2: \"Asian, Not Hispanic\",\n",
      "    3: \"Pacific Islander, Not Hispanic\",\n",
      "    4: \"Filipino, Not Hispanic\",\n",
      "    5: \"Hispanic or Latino\",\n",
      "    6: \"African American, not Hispanic\",\n",
      "    7: \"White, not Hispanic\",\n",
      "    8: \"Other\",\n",
      "    9: \"Other\"\n",
      "}\n",
      "dropouts[\"ethnicity\"] = dropouts.ethnic.apply(lambda e: ethnicity_map[e])"
     ],
     "language": "python",
     "metadata": {},
     "outputs": [],
     "prompt_number": 9
    },
    {
     "cell_type": "code",
     "collapsed": false,
     "input": [
      "def get_year(filename):\n",
      "    yr = int(filename[13:15])\n",
      "    if yr < 80:\n",
      "        cent = 2000\n",
      "    else:\n",
      "        cent = 1900\n",
      "    return cent + yr\n",
      "\n",
      "dropouts[\"year\"] = dropouts.FILENAME.apply(get_year)"
     ],
     "language": "python",
     "metadata": {},
     "outputs": [],
     "prompt_number": 10
    },
    {
     "cell_type": "code",
     "collapsed": false,
     "input": [
      "dropouts.columns"
     ],
     "language": "python",
     "metadata": {},
     "outputs": [
      {
       "metadata": {},
       "output_type": "pyout",
       "prompt_number": 11,
       "text": [
        "Index([u'Unnamed: 0', u'cds_code', u'ethnic', u'gender', u'e7', u'e8', u'e9', u'e10', u'e11', u'e12', u'eus', u'etot', u'd7', u'd8', u'd9', u'd10', u'd11', u'd12', u'dus', u'dtot', u'year', u'FILENAME', u'CDSCode', u'Charter', u'County', u'District', u'School', u'City', u'State', u'ethnicity'], dtype='object')"
       ]
      }
     ],
     "prompt_number": 11
    },
    {
     "cell_type": "code",
     "collapsed": false,
     "input": [
      "enr = dropouts.pivot_table(values=\"etot\", rows=[\"County\", \"District\", \"year\"], cols=[\"ethnicity\"], aggfunc=sum)\n",
      "drop = dropouts.pivot_table(values=\"dtot\", rows=[\"County\", \"District\", \"year\"], cols=[\"ethnicity\"], aggfunc=sum)\n",
      "enr.fillna(0, inplace=True)\n",
      "drop.fillna(0, inplace=True)"
     ],
     "language": "python",
     "metadata": {},
     "outputs": [],
     "prompt_number": 12
    },
    {
     "cell_type": "code",
     "collapsed": false,
     "input": [
      "enr[\"All\"] = enr.apply(sum, axis=1)\n",
      "drop[\"All\"] = drop.apply(sum, axis=1)\n",
      "enr.fillna(0, inplace=True)\n",
      "drop.fillna(0, inplace=True)"
     ],
     "language": "python",
     "metadata": {},
     "outputs": [],
     "prompt_number": 13
    },
    {
     "cell_type": "code",
     "collapsed": false,
     "input": [
      "p_drop = drop/enr"
     ],
     "language": "python",
     "metadata": {},
     "outputs": [],
     "prompt_number": 14
    },
    {
     "cell_type": "code",
     "collapsed": false,
     "input": [
      "p_drop.to_pickle(os.path.join(final_data, \"p_dropout_county_dist.pkl\"))"
     ],
     "language": "python",
     "metadata": {},
     "outputs": [],
     "prompt_number": 15
    }
   ],
   "metadata": {}
  }
 ]
}