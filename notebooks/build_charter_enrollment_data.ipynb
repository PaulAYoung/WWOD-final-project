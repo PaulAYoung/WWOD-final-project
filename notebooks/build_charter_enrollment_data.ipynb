{
 "metadata": {
  "name": "",
  "signature": "sha256:604b6a4e5336be7769748e001682ff4d3b62d67cf21a950e9e135fe710ef9e8c"
 },
 "nbformat": 3,
 "nbformat_minor": 0,
 "worksheets": [
  {
   "cells": [
    {
     "cell_type": "code",
     "collapsed": false,
     "input": [
      "import os\n",
      "import pandas as pd"
     ],
     "language": "python",
     "metadata": {},
     "outputs": [],
     "prompt_number": 1
    },
    {
     "cell_type": "code",
     "collapsed": false,
     "input": [
      "from IPython.html.widgets import interact, interactive, fixed\n",
      "from IPython.html import widgets\n",
      "from IPython.display import clear_output, display, HTML"
     ],
     "language": "python",
     "metadata": {},
     "outputs": [],
     "prompt_number": 2
    },
    {
     "cell_type": "code",
     "collapsed": false,
     "input": [
      "#get data dir\n",
      "\n",
      "data_path = os.path.join(os.path.pardir, \"data\")\n",
      "compiled_data = os.path.join(os.path.pardir, \"compileddata\")\n",
      "final_data = os.path.join(os.path.pardir, \"finaldata\")\n",
      "assert os.path.exists(data_path)\n",
      "assert os.path.exists(compiled_data)\n",
      "assert os.path.exists(final_data)"
     ],
     "language": "python",
     "metadata": {},
     "outputs": [],
     "prompt_number": 3
    },
    {
     "cell_type": "code",
     "collapsed": false,
     "input": [
      "df = pd.read_csv(os.path.join(compiled_data, \"enrollment.csv\"))"
     ],
     "language": "python",
     "metadata": {},
     "outputs": [
      {
       "output_type": "stream",
       "stream": "stderr",
       "text": [
        "/home/paul/anaconda/envs/myenv/lib/python2.7/site-packages/pandas/io/parsers.py:1070: DtypeWarning: Columns (4,5,22) have mixed types. Specify dtype option on import or set low_memory=False.\n",
        "  data = self._reader.read(nrows)\n"
       ]
      }
     ],
     "prompt_number": 4
    },
    {
     "cell_type": "code",
     "collapsed": false,
     "input": [
      "schools = pd.read_csv(os.path.join(data_path, \"pubschls.txt\"), sep=\"\\t\")"
     ],
     "language": "python",
     "metadata": {},
     "outputs": [],
     "prompt_number": 5
    },
    {
     "cell_type": "code",
     "collapsed": false,
     "input": [
      "#set columns from schools to merege\n",
      "merge_columns = [\"CDSCode\", \"Charter\", \"County\", \"District\", \"School\", \"City\", \"State\"]\n",
      "\n",
      "enrollment = df.merge(schools[merge_columns], how=\"left\", left_on=\"cds_code\", right_on=\"CDSCode\")"
     ],
     "language": "python",
     "metadata": {},
     "outputs": [],
     "prompt_number": 6
    },
    {
     "cell_type": "code",
     "collapsed": false,
     "input": [
      "#free up some memory\n",
      "\n",
      "del df\n",
      "del schools"
     ],
     "language": "python",
     "metadata": {},
     "outputs": [],
     "prompt_number": 7
    },
    {
     "cell_type": "code",
     "collapsed": false,
     "input": [
      "ethnicity_map = {\n",
      "    0: \"Other\",\n",
      "    1: \"American Indian or Alaska Native, Not Hispanic\",\n",
      "    2: \"Asian, Not Hispanic\",\n",
      "    3: \"Pacific Islander, Not Hispanic\",\n",
      "    4: \"Filipino, Not Hispanic\",\n",
      "    5: \"Hispanic or Latino\",\n",
      "    6: \"African American, not Hispanic\",\n",
      "    7: \"White, not Hispanic\",\n",
      "    8: \"Other\",\n",
      "    9: \"Other\"\n",
      "}\n",
      "enrollment[\"ethnicity\"] = enrollment.ethnic.apply(lambda e: ethnicity_map[e])"
     ],
     "language": "python",
     "metadata": {},
     "outputs": [],
     "prompt_number": 8
    },
    {
     "cell_type": "code",
     "collapsed": false,
     "input": [
      "def get_year(filename):\n",
      "    yr = int(filename[8:10])\n",
      "    if yr < 80:\n",
      "        cent = 2000\n",
      "    else:\n",
      "        cent = 1900\n",
      "    return cent + yr\n",
      "\n",
      "enrollment[\"year\"] = enrollment.FILENAME.apply(get_year)"
     ],
     "language": "python",
     "metadata": {},
     "outputs": [],
     "prompt_number": 9
    },
    {
     "cell_type": "code",
     "collapsed": false,
     "input": [
      "#Create percentage in charter by county data file\n",
      "enr = enrollment.pivot_table(values=\"enr_total\", rows=[\"County\", \"year\"], cols=[\"ethnicity\", \"Charter\"], aggfunc=sum)\n",
      "enr.fillna(0, inplace=True)\n",
      "for i in ethnicity_map.values():\n",
      "    enr[i, \"P\"] = enr[i].apply(lambda r: r.Y/float(r.Y + r.N), axis=1)\n",
      "enr.sort_index(axis=1, inplace=True)\n",
      "\n",
      "# Swap columns so \n",
      "enr.columns = enr.columns.swaplevel(0,1)\n",
      "enr[\"Y\", \"All\"] = enr.Y.apply(sum, axis=1)\n",
      "enr[\"N\", \"All\"] = enr.N.apply(sum, axis=1)\n",
      "enr[\"P\", \"All\"] = enr.apply(lambda r: float(r[\"Y\", \"All\"])/(r[\"Y\", \"All\"]+r[\"N\", \"All\"]), axis=1)\n",
      "enr.P.to_pickle(os.path.join(final_data, \"p_charter_county.pkl\"))\n",
      "\n",
      "del enr"
     ],
     "language": "python",
     "metadata": {},
     "outputs": [],
     "prompt_number": 10
    },
    {
     "cell_type": "code",
     "collapsed": false,
     "input": [
      "#Create percentage in charter by district data file\n",
      "enr = enrollment.pivot_table(values=\"enr_total\", rows=[\"District\", \"year\"], cols=[\"ethnicity\", \"Charter\"], aggfunc=sum)\n",
      "enr.fillna(0, inplace=True)\n",
      "for i in ethnicity_map.values():\n",
      "    enr[i, \"P\"] = enr[i].apply(lambda r: r.Y/float(r.Y + r.N), axis=1)\n",
      "enr.sort_index(axis=1, inplace=True)\n",
      "\n",
      "# Swap columns so \n",
      "enr.columns = enr.columns.swaplevel(0,1)\n",
      "enr[\"Y\", \"All\"] = enr.Y.apply(sum, axis=1)\n",
      "enr[\"N\", \"All\"] = enr.N.apply(sum, axis=1)\n",
      "enr[\"P\", \"All\"] = enr.apply(lambda r: float(r[\"Y\", \"All\"])/(r[\"Y\", \"All\"]+r[\"N\", \"All\"]), axis=1)\n",
      "enr.P.to_pickle(os.path.join(final_data, \"p_charter_district.pkl\"))\n",
      "\n",
      "del enr"
     ],
     "language": "python",
     "metadata": {},
     "outputs": [],
     "prompt_number": 11
    },
    {
     "cell_type": "code",
     "collapsed": false,
     "input": [
      "#Create percentage in charter by county data file\n",
      "enr = enrollment.pivot_table(values=\"enr_total\", rows=[\"County\", \"District\", \"year\"], cols=[\"ethnicity\", \"Charter\"], aggfunc=sum)\n",
      "enr.fillna(0, inplace=True)\n",
      "for i in ethnicity_map.values():\n",
      "    enr[i, \"P\"] = enr[i].apply(lambda r: r.Y/float(r.Y + r.N), axis=1)\n",
      "enr.sort_index(axis=1, inplace=True)\n",
      "\n",
      "# Swap columns so \n",
      "enr.columns = enr.columns.swaplevel(0,1)\n",
      "enr[\"Y\", \"All\"] = enr.Y.apply(sum, axis=1)\n",
      "enr[\"N\", \"All\"] = enr.N.apply(sum, axis=1)\n",
      "enr[\"P\", \"All\"] = enr.apply(lambda r: float(r[\"Y\", \"All\"])/(r[\"Y\", \"All\"]+r[\"N\", \"All\"]), axis=1)\n",
      "enr.P.to_pickle(os.path.join(final_data, \"p_charter_county_dist.pkl\"))\n",
      "\n",
      "del enr"
     ],
     "language": "python",
     "metadata": {},
     "outputs": [],
     "prompt_number": 10
    }
   ],
   "metadata": {}
  }
 ]
}